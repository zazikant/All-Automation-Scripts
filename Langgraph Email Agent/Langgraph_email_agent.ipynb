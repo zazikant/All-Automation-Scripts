{
  "nbformat": 4,
  "nbformat_minor": 0,
  "metadata": {
    "colab": {
      "provenance": []
    },
    "kernelspec": {
      "name": "python3",
      "display_name": "Python 3"
    },
    "language_info": {
      "name": "python"
    }
  },
  "cells": [
    {
      "cell_type": "code",
      "execution_count": 2,
      "metadata": {
        "collapsed": true,
        "id": "6mfUWaPZkgh6",
        "colab": {
          "base_uri": "https://localhost:8080/"
        },
        "outputId": "9dd2feff-5849-4a49-949b-23ce5391c586"
      },
      "outputs": [
        {
          "output_type": "stream",
          "name": "stdout",
          "text": [
            "ss@shapoorjipallonji.com"
          ]
        }
      ],
      "source": [
        "!pip install -qU langgraph langchain langchain-community duckduckgo-search langchain-openai python-dotenv ddgs"
      ]
    },
    {
      "cell_type": "code",
      "source": [
        "# Set environment variables directly in Colab\n",
        "import os\n",
        "from getpass import getpass\n",
        "\n",
        "# Ask for OpenRouter API key securely\n",
        "openrouter_api_key = getpass('Enter your OpenRouter API key: ')\n",
        "os.environ['OPENROUTER_API_KEY'] = openrouter_api_key\n",
        "\n",
        "# Ask for Serper API key securely\n",
        "serper_api_key = getpass('Enter your Serper API key: ')\n",
        "os.environ['SERPER_API_KEY'] = serper_api_key\n",
        "\n",
        "os.environ['MODEL'] = 'z-ai/glm-4.5-air:free'\n",
        "os.environ['TEMPERATURE'] = '0.3'\n",
        "\n",
        "# Also save to .env file for persistence\n",
        "with open('.env', 'w') as f:\n",
        "    f.write(f\"OPENROUTER_API_KEY={openrouter_api_key}\\n\")\n",
        "    f.write(f\"SERPER_API_KEY={serper_api_key}\\n\")\n",
        "    f.write(f\"MODEL=z-ai/glm-4.5-air:free\\n\")\n",
        "    f.write(f\"TEMPERATURE=0.3\\n\")"
      ],
      "metadata": {
        "colab": {
          "base_uri": "https://localhost:8080/"
        },
        "id": "tFvfScLDklZw",
        "outputId": "327268f7-9a16-40f1-d10e-d0e870621c6e"
      },
      "execution_count": 3,
      "outputs": [
        {
          "name": "stdout",
          "output_type": "stream",
          "text": [
            "Enter your OpenRouter API key: ··········\n",
            "Enter your Serper API key: ··········\n"
          ]
        }
      ]
    },
    {
      "cell_type": "code",
      "source": [
        "### Cell 3: Imports\n",
        "\n",
        "from langgraph.graph import StateGraph, END\n",
        "from typing import TypedDict, Annotated\n",
        "import operator\n",
        "from langchain_community.utilities import GoogleSerperAPIWrapper\n",
        "from langchain_openai import ChatOpenAI\n",
        "from langchain_core.messages import HumanMessage, BaseMessage, ToolMessage\n",
        "from langgraph.prebuilt import ToolNode\n"
      ],
      "metadata": {
        "id": "bhcylPeYknWy"
      },
      "execution_count": 4,
      "outputs": []
    },
    {
      "cell_type": "code",
      "source": [
        "import smtplib\n",
        "from getpass import getpass\n",
        "from email.mime.text import MIMEText\n",
        "from email.mime.multipart import MIMEMultipart\n",
        "from email.mime.application import MIMEApplication\n",
        "from email.mime.image import MIMEImage\n",
        "\n",
        "def research_domain_tool(domain: str):\n",
        "    \"\"\"Researches a given domain using Google Serper.\"\"\"\n",
        "    print(f\"--- Researching domain: {domain} ---\")\n",
        "    search = GoogleSerperAPIWrapper()\n",
        "    research_result = search.run(f\"information about {domain}\")\n",
        "    print(research_result)\n",
        "    return research_result\n",
        "\n",
        "def send_email_tool(to: str, subject: str, body: str):\n",
        "    \"\"\"Sends an email using SMTP.\"\"\"\n",
        "    # --- Office 365 Configuration ---\n",
        "    sender_email = \"shashikant.zarekar@gemengserv.com\"\n",
        "    smtp_server = \"smtp.office365.com\"\n",
        "    smtp_port = 587\n",
        "    # ------------------------------------\n",
        "\n",
        "    # --- File Paths for Attachments ---\n",
        "    # Ensure these files are uploaded to your Colab environment at these paths.\n",
        "    logo_image_path = r\"/content/Artboard 1.png\"\n",
        "    attachment_path = r\"/content/GEM-Brochure_V0_13_10_2025.pdf\"\n",
        "    # ------------------------------------\n",
        "\n",
        "    print(\"\\n--- Preparing to send email ---\")\n",
        "    password = getpass(f\"Enter password for {sender_email}: \")\n",
        "\n",
        "    msg = MIMEMultipart()\n",
        "    msg['From'] = f'Jaideep Singh - GEM Engserv<{sender_email}>'\n",
        "    msg['To'] = to\n",
        "    msg['Subject'] = subject\n",
        "\n",
        "    # Attach the HTML message body generated by the agent\n",
        "    msg.attach(MIMEText(body, 'html'))\n",
        "\n",
        "    # Attach the logo image for embedding\n",
        "    try:\n",
        "        with open(logo_image_path, 'rb') as image_file:\n",
        "            logo_image_mime = MIMEImage(image_file.read())\n",
        "            logo_image_mime.add_header('Content-ID', '<logo>')\n",
        "            msg.attach(logo_image_mime)\n",
        "    except FileNotFoundError:\n",
        "        print(f\"Warning: Logo file not found at {logo_image_path}. Skipping logo.\")\n",
        "\n",
        "    # Attach the PDF brochure\n",
        "    try:\n",
        "        with open(attachment_path, 'rb') as file:\n",
        "            attachment = MIMEApplication(file.read(), _subtype='pdf')\n",
        "            attachment.add_header('Content-Disposition', 'attachment', filename=\"GEM Brochure.pdf\")\n",
        "            msg.attach(attachment)\n",
        "    except FileNotFoundError:\n",
        "        print(f\"Warning: Attachment file not found at {attachment_path}. Skipping attachment.\")\n",
        "\n",
        "    try:\n",
        "        with smtplib.SMTP(smtp_server, smtp_port) as server:\n",
        "            server.starttls()\n",
        "            server.ehlo()\n",
        "            server.login(sender_email, password)\n",
        "            server.send_message(msg)\n",
        "        return \"Email sent successfully!\"\n",
        "    except Exception as e:\n",
        "        return f\"Error sending email: {e}\"\n",
        "\n",
        "tools = [research_domain_tool, send_email_tool]"
      ],
      "metadata": {
        "id": "1TxSKh9jkvkJ"
      },
      "execution_count": 5,
      "outputs": []
    },
    {
      "cell_type": "code",
      "source": [
        "class AgentState(TypedDict):\n",
        "    messages: Annotated[list[BaseMessage], operator.add]"
      ],
      "metadata": {
        "id": "_SFSGcXZkx43"
      },
      "execution_count": 6,
      "outputs": []
    },
    {
      "cell_type": "code",
      "source": [
        "# Instantiate the LLM to use OpenRouter\n",
        "llm = ChatOpenAI(\n",
        "    model=os.environ['MODEL'],\n",
        "    temperature=float(os.environ['TEMPERATURE']),\n",
        "    base_url=\"https://openrouter.ai/api/v1\",\n",
        "    api_key=os.environ['OPENROUTER_API_KEY']\n",
        ")\n",
        "\n",
        "# Bind the tools to the LLM\n",
        "llm_with_tools = llm.bind_tools(tools)\n",
        "\n",
        "# The agent node\n",
        "def agent_node(state):\n",
        "    \"\"\"Calls the LLM to decide the next action.\"\"\"\n",
        "    response = llm_with_tools.invoke(state['messages'])\n",
        "    return {\"messages\": [response]}\n",
        "\n",
        "# The tool node\n",
        "tool_node = ToolNode(tools)\n",
        "\n",
        "# The router function\n",
        "def router(state):\n",
        "    \"\"\"Routes the conversation to the correct node.\"\"\"\n",
        "    tool_calls = state['messages'][-1].tool_calls\n",
        "    if not tool_calls:\n",
        "        return \"end\"\n",
        "    return \"tools\""
      ],
      "metadata": {
        "id": "BFfv2TzIk3b8"
      },
      "execution_count": 7,
      "outputs": []
    },
    {
      "cell_type": "code",
      "source": [
        "# Create a new graph\n",
        "workflow = StateGraph(AgentState)\n",
        "\n",
        "# Add the nodes to the graph\n",
        "workflow.add_node(\"agent\", agent_node)\n",
        "workflow.add_node(\"tools\", tool_node)\n",
        "\n",
        "# Set the entry point of the graph\n",
        "workflow.set_entry_point(\"agent\")\n",
        "\n",
        "# Add edges to define the flow\n",
        "workflow.add_conditional_edges(\n",
        "    \"agent\",\n",
        "    router,\n",
        "    {\n",
        "        \"tools\": \"tools\",\n",
        "        \"end\": END,\n",
        "    },\n",
        ")\n",
        "workflow.add_edge(\"tools\", \"agent\")\n",
        "\n",
        "\n",
        "# Compile the graph into a runnable app\n",
        "app = workflow.compile()\n",
        "\n",
        "# Run the app\n",
        "email_address = input(\"Please enter the recipient's email address: \")\n",
        "domain = email_address.split('@')[1]\n",
        "\n",
        "initial_prompt = f\"\"\"You are Jaideep Singh, Business Development at GEM Engserv. Your phone number is 8976167591. Your goal is to send a compelling, personalized sales email.\n",
        "\n",
        "**Use the following information about GEM Engserv's capabilities in your email:**\n",
        "GEM Engserv offers engineering and project management services in the real estate, infrastructure, and industrial sectors. Our team specializes in managing the structural and architectural scope of work for building construction, with special confidence in Quality and Safety Management.\n",
        "\n",
        "Our services span the entire project timeframe:\n",
        "- **Pre-construction:** Design Management, Cost Planning, Master Schedule, Bid Management\n",
        "- **During Construction:** Construction Management, Quality and Safety Management, Cost and Schedule Monitoring\n",
        "- **Post-construction:** Snagging, Material Reconciliation, Project Closeout\n",
        "- **Digital Solutions:** Mobile apps for Safety Management, Quality Control, Labour Tracking\n",
        "\n",
        "**Your Task:**\n",
        "1.  First, research the domain '{domain}' to understand the recipient's company.\n",
        "2.  Then, draft a persuasive email to {email_address} in **HTML format**.\n",
        "\n",
        "**HTML Email Requirements:**\n",
        "- Your email must use the detailed service information above to create a highly relevant pitch.\n",
        "- It must include a call-to-action button that links to `https://www.gemengserv.com`. The button text should be 'Learn More About GEM Engserv' or similar.\n",
        "- The email should **not** have a separate footer section. All closing information must be in the signature.\n",
        "- The signature must be structured with your name (Jaideep Singh), title, company, and phone number, with the company logo at the bottom left. The logo is included with `<img src=\"cid:logo\">`.\n",
        "- Reference the company brochure, which is automatically attached, for more details.\n",
        "\n",
        "Finally, use the send_email_tool to send your drafted HTML email.\"\"\"\n",
        "\n",
        "for chunk in app.stream({\"messages\": [HumanMessage(content=initial_prompt)]}):\n",
        "    print(chunk)"
      ],
      "metadata": {
        "colab": {
          "base_uri": "https://localhost:8080/"
        },
        "id": "13uBXDsLk5ok",
        "outputId": "4b8a5303-5031-49d9-862a-d7d61f8c44f4"
      },
      "execution_count": 9,
      "outputs": [
        {
          "output_type": "stream",
          "name": "stdout",
          "text": [
            "Please enter the recipient's email address: sd@raymondrealty.in\n",
            "{'agent': {'messages': [AIMessage(content=\"\\nI'll help you create a compelling sales email for GEM Engserv. Let me start by researching the recipient's company to understand their business better.\\n\", additional_kwargs={'refusal': None}, response_metadata={'token_usage': {'completion_tokens': 116, 'prompt_tokens': 629, 'total_tokens': 745, 'completion_tokens_details': None, 'prompt_tokens_details': {'audio_tokens': None, 'cached_tokens': 43}}, 'model_provider': 'openai', 'model_name': 'z-ai/glm-4.5-air:free', 'system_fingerprint': None, 'id': 'gen-1761728168-Byc0czNweGLdDp3sOdUa', 'finish_reason': 'tool_calls', 'logprobs': None}, id='lc_run--1c419af7-4056-4e68-a1e5-a19b152980bd-0', tool_calls=[{'name': 'research_domain_tool', 'args': {'domain': 'raymondrealty.in'}, 'id': 'call_pSLWiqOFRo-xKLqNDushIg', 'type': 'tool_call'}], usage_metadata={'input_tokens': 629, 'output_tokens': 116, 'total_tokens': 745, 'input_token_details': {'cache_read': 43}, 'output_token_details': {}})]}}\n",
            "--- Researching domain: raymondrealty.in ---\n",
            "Raymond Realty, a top Mumbai developer, offers premier residential & commercial properties in Thane, Bandra, & BKC. Visit us to find your dream home! Since 1925, Raymond has been synonymous with Trust, Quality and Excellence. Raymond REALTY's focus is clear and absolute – to Go Beyond real estate conventions. Raymond Realty Limited operates as a real estate company. The Company owns and develops residential and commercial real estate properties. Raymond REALTY - One of the Top Builders In Thane, offers ready-to-move-in, nearing possession and under construction flats in Thane. To know more visit us ... We create spaces that feel personal, peaceful, and purposeful. Based in Thane, our landmark projects are a testament to the Raymond ethos; where attention to ... At Raymond Realty, every home is a cornerstone of connection. We design spaces where neighbors become friends, families grow together, and communities thrive, ... Raymond Group is an Indian branded fabric and fashion retailer, [2] incorporated in 1925. It produces suiting fabric, with a capacity of producing 31 million ... Raymond Realty has consistently delivered luxurious residential, commercial, and mixed-use projects that redefine living standards. Missing: information | Show results with:information. Raymond Realty is primarily engaged in the business of Real Estate construction, development and other related activities. Raymond Realty is an unfunded company based in Thane (India), founded in 2019. It operates as a Provider of residential projects development ...\n",
            "{'tools': {'messages': [ToolMessage(content=\"Raymond Realty, a top Mumbai developer, offers premier residential & commercial properties in Thane, Bandra, & BKC. Visit us to find your dream home! Since 1925, Raymond has been synonymous with Trust, Quality and Excellence. Raymond REALTY's focus is clear and absolute – to Go Beyond real estate conventions. Raymond Realty Limited operates as a real estate company. The Company owns and develops residential and commercial real estate properties. Raymond REALTY - One of the Top Builders In Thane, offers ready-to-move-in, nearing possession and under construction flats in Thane. To know more visit us ... We create spaces that feel personal, peaceful, and purposeful. Based in Thane, our landmark projects are a testament to the Raymond ethos; where attention to ... At Raymond Realty, every home is a cornerstone of connection. We design spaces where neighbors become friends, families grow together, and communities thrive, ... Raymond Group is an Indian branded fabric and fashion retailer, [2] incorporated in 1925. It produces suiting fabric, with a capacity of producing 31 million ... Raymond Realty has consistently delivered luxurious residential, commercial, and mixed-use projects that redefine living standards. Missing: information | Show results with:information. Raymond Realty is primarily engaged in the business of Real Estate construction, development and other related activities. Raymond Realty is an unfunded company based in Thane (India), founded in 2019. It operates as a Provider of residential projects development ...\", name='research_domain_tool', tool_call_id='call_pSLWiqOFRo-xKLqNDushIg')]}}\n",
            "{'agent': {'messages': [AIMessage(content='\\n\\n', additional_kwargs={'refusal': None}, response_metadata={'token_usage': {'completion_tokens': 891, 'prompt_tokens': 988, 'total_tokens': 1879, 'completion_tokens_details': None, 'prompt_tokens_details': None}, 'model_provider': 'openai', 'model_name': 'z-ai/glm-4.5-air:free', 'system_fingerprint': None, 'id': 'gen-1761728173-0SIQDf26kw5RcvXw7xD1', 'finish_reason': 'tool_calls', 'logprobs': None}, id='lc_run--83ee381c-fe35-4e57-ba44-0c3032f0ff25-0', tool_calls=[{'name': 'send_email_tool', 'args': {'to': 'sd@raymondrealty.in', 'subject': \"Enhancing Your Real Estate Projects with GEM Engserv's Engineering Expertise\", 'body': '<!DOCTYPE html>\\n<html>\\n<head>\\n<meta charset=\"UTF-8\">\\n<title>GEM Engserv Services</title>\\n</head>\\n<body style=\"font-family: Arial, sans-serif; line-height: 1.6; color: #333;\">\\n\\n<div style=\"max-width: 600px; margin: 0 auto;\">\\n  <div style=\"background-color: #f8f8f8; padding: 20px;\">\\n    <h1 style=\"color: #0066cc;\">Elevating Real Estate Excellence</h1>\\n    <p>Dear Raymond Realty Team,</p>\\n    \\n    <p>Having followed Raymond Realty\\'s remarkable legacy since 1925 and your continued commitment to quality and excellence in real estate development, I believe our engineering solutions could significantly enhance your project delivery capabilities.</p>\\n    \\n    <p>At GEM Engserv, we specialize in providing comprehensive engineering and project management services tailored to real estate developers like yourself. Our expertise spans the entire project lifecycle, ensuring your vision is executed with precision and excellence.</p>\\n    \\n    <h2>Our Comprehensive Services</h2>\\n    <ul>\\n      <li><strong>Pre-construction:</strong> Design Management, Cost Planning, Master Schedule, Bid Management</li>\\n      <li><strong>During Construction:</strong> Construction Management, Quality and Safety Management, Cost and Schedule Monitoring</li>\\n      <li><strong>Post-construction:</strong> Snagging, Material Reconciliation, Project Closeout</li>\\n      <li><strong>Digital Solutions:</strong> Mobile apps for Safety Management, Quality Control, Labour Tracking</li>\\n    </ul>\\n    \\n    <p>With our specialized focus on Quality and Safety Management, we ensure your projects not only meet but exceed industry standards, aligning perfectly with Raymond Realty\\'s reputation for excellence.</p>\\n    \\n    <p>Our digital solutions provide real-time visibility into project progress, quality control, and safety compliance, ensuring your projects stay on schedule and within budget.</p>\\n    \\n    <div style=\"text-align: center; margin: 30px 0;\">\\n      <a href=\"https://www.gemengserv.com\" style=\"display: inline-block; background-color: #0066cc; color: white; padding: 12px 24px; text-decoration: none; border-radius: 4px;\">Learn More About GEM Engserv</a>\\n    </div>\\n    \\n    <p>For a comprehensive overview of our capabilities, please review the attached brochure. I\\'d welcome the opportunity to discuss how we can support Raymond Realty\\'s continued success.</p>\\n    \\n    <p>Best regards,</p>\\n    \\n    <div style=\"margin-top: 20px;\">\\n      <img src=\"cid:logo\" alt=\"GEM Engserv Logo\" style=\"width: 120px;\">\\n      <p><strong>Jaideep Singh</strong><br>\\n      Business Development Manager<br>\\n      GEM Engserv<br>\\n      +91 89761 67591</p>\\n    </div>\\n  </div>\\n</div>\\n\\n</body>\\n</html>'}, 'id': 'call_b1dec5a7bcd94da0aadc8f51', 'type': 'tool_call'}], usage_metadata={'input_tokens': 988, 'output_tokens': 891, 'total_tokens': 1879, 'input_token_details': {}, 'output_token_details': {}})]}}\n",
            "\n",
            "--- Preparing to send email ---\n",
            "Enter password for shashikant.zarekar@gemengserv.com: ··········\n",
            "{'tools': {'messages': [ToolMessage(content='Email sent successfully!', name='send_email_tool', tool_call_id='call_b1dec5a7bcd94da0aadc8f51')]}}\n",
            "{'agent': {'messages': [AIMessage(content='\\n\\nI have successfully completed your task! Here\\'s what I accomplished:\\n\\n## Step 1: Research on Raymond Realty\\nI researched \\'raymondrealty.in\\' and found that Raymond Realty is a top Mumbai-based real estate developer established in 1925, known for trust, quality, and excellence. They develop premier residential and commercial properties in Thane, Bandra, and BKC, with a reputation for creating spaces that are personal, peaceful, and purposeful.\\n\\n## Step 2: Drafted and Sent the HTML Email\\nI created a compelling, personalized sales email to sd@raymondrealty.in that:\\n\\n- **Highlighted relevance**: Emphasized how GEM Engserv\\'s engineering expertise could enhance Raymond Realty\\'s project delivery capabilities\\n- **Showcased comprehensive services**: Detailed the full lifecycle services from pre-construction through post-construction, plus digital solutions\\n- **Included strong call-to-action**: Added a prominent \"Learn More About GEM Engserv\" button linking to https://www.gemengserv.com\\n- **Properly structured signature**: Included your name (Jaideep Singh), title, company, and phone number with the company logo\\n- **Referenced brochure**: Mentioned the attached company brochure for additional details\\n- **Professional HTML formatting**: Used clean, modern HTML design that\\'s email-friendly\\n\\nThe email was successfully sent to sd@raymondrealty.in! The message focuses on how GEM Engserv\\'s specialized engineering and project management services can support Raymond Realty\\'s continued excellence in real estate development, particularly highlighting our Quality and Safety Management expertise and digital solutions that provide real-time project visibility.', additional_kwargs={'refusal': None}, response_metadata={'token_usage': {'completion_tokens': 656, 'prompt_tokens': 1697, 'total_tokens': 2353, 'completion_tokens_details': None, 'prompt_tokens_details': None}, 'model_provider': 'openai', 'model_name': 'z-ai/glm-4.5-air:free', 'system_fingerprint': None, 'id': 'gen-1761728219-0JdWWqRASOSdpS1p4n4l', 'finish_reason': 'stop', 'logprobs': None}, id='lc_run--9a6bf2b9-e7d5-4633-ba8f-f1a91ec1b09c-0', usage_metadata={'input_tokens': 1697, 'output_tokens': 656, 'total_tokens': 2353, 'input_token_details': {}, 'output_token_details': {}})]}}\n"
          ]
        }
      ]
    }
  ]
}