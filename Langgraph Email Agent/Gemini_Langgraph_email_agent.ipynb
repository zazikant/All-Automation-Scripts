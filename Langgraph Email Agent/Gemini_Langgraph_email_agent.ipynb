{
  "nbformat": 4,
  "nbformat_minor": 0,
  "metadata": {
    "colab": {
      "provenance": []
    },
    "kernelspec": {
      "name": "python3",
      "display_name": "Python 3"
    },
    "language_info": {
      "name": "python"
    }
  },
  "cells": [
    {
      "cell_type": "code",
      "execution_count": 1,
      "metadata": {
        "collapsed": true,
        "id": "6mfUWaPZkgh6",
        "colab": {
          "base_uri": "https://localhost:8080/"
        },
        "outputId": "defdc3a7-739b-4b06-e822-99141b70ca66"
      },
      "outputs": [
        {
          "output_type": "stream",
          "name": "stdout",
          "text": [
            "\u001b[?25l   \u001b[90m━━━━━━━━━━━━━━━━━━━━━━━━━━━━━━━━━━━━━━━━\u001b[0m \u001b[32m0.0/155.4 kB\u001b[0m \u001b[31m?\u001b[0m eta \u001b[36m-:--:--\u001b[0m\r\u001b[2K   \u001b[91m━━━━━━━━━━━━━━━━━━━━━━━━━━━━━━━━━━━━━━━\u001b[0m\u001b[91m╸\u001b[0m \u001b[32m153.6/155.4 kB\u001b[0m \u001b[31m6.5 MB/s\u001b[0m eta \u001b[36m0:00:01\u001b[0m\r\u001b[2K   \u001b[90m━━━━━━━━━━━━━━━━━━━━━━━━━━━━━━━━━━━━━━━━\u001b[0m \u001b[32m155.4/155.4 kB\u001b[0m \u001b[31m4.0 MB/s\u001b[0m eta \u001b[36m0:00:00\u001b[0m\n",
            "\u001b[2K   \u001b[90m━━━━━━━━━━━━━━━━━━━━━━━━━━━━━━━━━━━━━━━━\u001b[0m \u001b[32m107.8/107.8 kB\u001b[0m \u001b[31m8.5 MB/s\u001b[0m eta \u001b[36m0:00:00\u001b[0m\n",
            "\u001b[2K   \u001b[90m━━━━━━━━━━━━━━━━━━━━━━━━━━━━━━━━━━━━━━━━\u001b[0m \u001b[32m2.5/2.5 MB\u001b[0m \u001b[31m31.9 MB/s\u001b[0m eta \u001b[36m0:00:00\u001b[0m\n",
            "\u001b[2K   \u001b[90m━━━━━━━━━━━━━━━━━━━━━━━━━━━━━━━━━━━━━━━━\u001b[0m \u001b[32m57.8/57.8 kB\u001b[0m \u001b[31m4.2 MB/s\u001b[0m eta \u001b[36m0:00:00\u001b[0m\n",
            "\u001b[2K   \u001b[90m━━━━━━━━━━━━━━━━━━━━━━━━━━━━━━━━━━━━━━━━\u001b[0m \u001b[32m41.6/41.6 kB\u001b[0m \u001b[31m2.9 MB/s\u001b[0m eta \u001b[36m0:00:00\u001b[0m\n",
            "\u001b[2K   \u001b[90m━━━━━━━━━━━━━━━━━━━━━━━━━━━━━━━━━━━━━━━━\u001b[0m \u001b[32m1.4/1.4 MB\u001b[0m \u001b[31m62.3 MB/s\u001b[0m eta \u001b[36m0:00:00\u001b[0m\n",
            "\u001b[2K   \u001b[90m━━━━━━━━━━━━━━━━━━━━━━━━━━━━━━━━━━━━━━━━\u001b[0m \u001b[32m1.0/1.0 MB\u001b[0m \u001b[31m45.9 MB/s\u001b[0m eta \u001b[36m0:00:00\u001b[0m\n",
            "\u001b[2K   \u001b[90m━━━━━━━━━━━━━━━━━━━━━━━━━━━━━━━━━━━━━━━━\u001b[0m \u001b[32m467.1/467.1 kB\u001b[0m \u001b[31m30.2 MB/s\u001b[0m eta \u001b[36m0:00:00\u001b[0m\n",
            "\u001b[2K   \u001b[90m━━━━━━━━━━━━━━━━━━━━━━━━━━━━━━━━━━━━━━━━\u001b[0m \u001b[32m46.1/46.1 kB\u001b[0m \u001b[31m2.7 MB/s\u001b[0m eta \u001b[36m0:00:00\u001b[0m\n",
            "\u001b[2K   \u001b[90m━━━━━━━━━━━━━━━━━━━━━━━━━━━━━━━━━━━━━━━━\u001b[0m \u001b[32m56.8/56.8 kB\u001b[0m \u001b[31m3.2 MB/s\u001b[0m eta \u001b[36m0:00:00\u001b[0m\n",
            "\u001b[2K   \u001b[90m━━━━━━━━━━━━━━━━━━━━━━━━━━━━━━━━━━━━━━━━\u001b[0m \u001b[32m5.3/5.3 MB\u001b[0m \u001b[31m89.9 MB/s\u001b[0m eta \u001b[36m0:00:00\u001b[0m\n",
            "\u001b[2K   \u001b[90m━━━━━━━━━━━━━━━━━━━━━━━━━━━━━━━━━━━━━━━━\u001b[0m \u001b[32m3.3/3.3 MB\u001b[0m \u001b[31m87.9 MB/s\u001b[0m eta \u001b[36m0:00:00\u001b[0m\n",
            "\u001b[2K   \u001b[90m━━━━━━━━━━━━━━━━━━━━━━━━━━━━━━━━━━━━━━━━\u001b[0m \u001b[32m64.7/64.7 kB\u001b[0m \u001b[31m5.0 MB/s\u001b[0m eta \u001b[36m0:00:00\u001b[0m\n",
            "\u001b[2K   \u001b[90m━━━━━━━━━━━━━━━━━━━━━━━━━━━━━━━━━━━━━━━━\u001b[0m \u001b[32m50.9/50.9 kB\u001b[0m \u001b[31m3.9 MB/s\u001b[0m eta \u001b[36m0:00:00\u001b[0m\n",
            "\u001b[2K   \u001b[90m━━━━━━━━━━━━━━━━━━━━━━━━━━━━━━━━━━━━━━━━\u001b[0m \u001b[32m207.6/207.6 kB\u001b[0m \u001b[31m11.1 MB/s\u001b[0m eta \u001b[36m0:00:00\u001b[0m\n",
            "\u001b[?25h\u001b[31mERROR: pip's dependency resolver does not currently take into account all the packages that are installed. This behaviour is the source of the following dependency conflicts.\n",
            "google-colab 1.0.0 requires requests==2.32.4, but you have requests 2.32.5 which is incompatible.\n",
            "google-generativeai 0.8.5 requires google-ai-generativelanguage==0.6.15, but you have google-ai-generativelanguage 0.9.0 which is incompatible.\u001b[0m\u001b[31m\n",
            "\u001b[0m"
          ]
        }
      ],
      "source": [
        "!pip install -qU langgraph langchain langchain-community duckduckgo-search langchain-google-genai python-dotenv ddgs"
      ]
    },
    {
      "cell_type": "code",
      "source": [
        "### Cell 2: Set API Keys\n",
        "\n",
        "# Set environment variables directly in Colab\n",
        "import os\n",
        "from getpass import getpass\n",
        "\n",
        "# Ask for Google API key securely\n",
        "google_api_key = getpass('Enter your Google API key: ')\n",
        "os.environ['GOOGLE_API_KEY'] = google_api_key\n",
        "\n",
        "# Ask for Serper API key securely\n",
        "serper_api_key = getpass('Enter your Serper API key: ')\n",
        "os.environ['SERPER_API_KEY'] = serper_api_key\n",
        "\n",
        "os.environ['MODEL'] = 'gemini-2.5-flash'\n",
        "os.environ['TEMPERATURE'] = '0.3'\n",
        "\n",
        "# Also save to .env file for persistence\n",
        "with open('.env', 'w') as f:\n",
        "    f.write(f\"GOOGLE_API_KEY={google_api_key}\\n\")\n",
        "    f.write(f\"SERPER_API_KEY={serper_api_key}\\n\")\n",
        "    f.write(f\"MODEL=gemini-2.5-flash\\n\")\n",
        "    f.write(f\"TEMPERATURE=0.3\\n\")"
      ],
      "metadata": {
        "colab": {
          "base_uri": "https://localhost:8080/"
        },
        "id": "tFvfScLDklZw",
        "outputId": "d9a13aef-3306-43fe-f5fe-40f37226bf5d"
      },
      "execution_count": 2,
      "outputs": [
        {
          "name": "stdout",
          "output_type": "stream",
          "text": [
            "Enter your Google API key: ··········\n",
            "Enter your Serper API key: ··········\n"
          ]
        }
      ]
    },
    {
      "cell_type": "code",
      "source": [
        "### Cell 3: Imports\n",
        "\n",
        "from langgraph.graph import StateGraph, END\n",
        "from typing import TypedDict, Annotated\n",
        "import operator\n",
        "from langchain_community.utilities import GoogleSerperAPIWrapper\n",
        "from langchain_google_genai import ChatGoogleGenerativeAI\n",
        "from langchain_core.messages import HumanMessage, BaseMessage, ToolMessage\n",
        "from langgraph.prebuilt import ToolNode\n"
      ],
      "metadata": {
        "id": "bhcylPeYknWy"
      },
      "execution_count": 3,
      "outputs": []
    },
    {
      "cell_type": "code",
      "source": [
        "import smtplib\n",
        "from getpass import getpass\n",
        "from email.mime.text import MIMEText\n",
        "from email.mime.multipart import MIMEMultipart\n",
        "from email.mime.application import MIMEApplication\n",
        "from email.mime.image import MIMEImage\n",
        "\n",
        "def research_domain_tool(domain: str):\n",
        "    \"\"\"Researches a given domain using Google Serper.\"\"\"\n",
        "    print(f\"--- Researching domain: {domain} ---\")\n",
        "    search = GoogleSerperAPIWrapper()\n",
        "    research_result = search.run(f\"information about {domain}\")\n",
        "    print(research_result)\n",
        "    return research_result\n",
        "\n",
        "def send_email_tool(to: str, subject: str, body: str):\n",
        "    \"\"\"Sends an email using SMTP.\"\"\"\n",
        "    # --- Office 365 Configuration ---\n",
        "    sender_email = \"shashikant.zarekar@gemengserv.com\"\n",
        "    smtp_server = \"smtp.office365.com\"\n",
        "    smtp_port = 587\n",
        "    # ------------------------------------\n",
        "\n",
        "    # --- File Paths for Attachments ---\n",
        "    # Ensure these files are uploaded to your Colab environment at these paths.\n",
        "    logo_image_path = r\"/content/Artboard 1.png\"\n",
        "    attachment_path = r\"/content/GEM-Brochure_V0_13_10_2025.pdf\"\n",
        "    # ------------------------------------\n",
        "\n",
        "    print(\"\\n--- Preparing to send email ---\")\n",
        "    password = getpass(f\"Enter password for {sender_email}: \")\n",
        "\n",
        "    msg = MIMEMultipart()\n",
        "    msg['From'] = f'Jaideep Singh - GEM Engserv<{sender_email}>'\n",
        "    msg['To'] = to\n",
        "    msg['Subject'] = subject\n",
        "\n",
        "    # Attach the HTML message body generated by the agent\n",
        "    msg.attach(MIMEText(body, 'html'))\n",
        "\n",
        "    # Attach the logo image for embedding\n",
        "    try:\n",
        "        with open(logo_image_path, 'rb') as image_file:\n",
        "            logo_image_mime = MIMEImage(image_file.read(), _subtype='png')\n",
        "            logo_image_mime.add_header('Content-ID', '<logo>')\n",
        "            msg.attach(logo_image_mime)\n",
        "    except FileNotFoundError:\n",
        "        print(f\"Warning: Logo file not found at {logo_image_path}. Skipping logo.\")\n",
        "\n",
        "    # Attach the PDF brochure\n",
        "    try:\n",
        "        with open(attachment_path, 'rb') as file:\n",
        "            attachment = MIMEApplication(file.read(), _subtype='pdf')\n",
        "            attachment.add_header('Content-Disposition', 'attachment', filename=\"GEM Brochure.pdf\")\n",
        "            msg.attach(attachment)\n",
        "    except FileNotFoundError:\n",
        "        print(f\"Warning: Attachment file not found at {attachment_path}. Skipping attachment.\")\n",
        "\n",
        "    try:\n",
        "        with smtplib.SMTP(smtp_server, smtp_port) as server:\n",
        "            server.starttls()\n",
        "            server.ehlo()\n",
        "            server.login(sender_email, password)\n",
        "            server.send_message(msg)\n",
        "        return \"Email sent successfully!\"\n",
        "    except Exception as e:\n",
        "        return f\"Error sending email: {e}\"\n",
        "\n",
        "tools = [research_domain_tool, send_email_tool]"
      ],
      "metadata": {
        "id": "1TxSKh9jkvkJ"
      },
      "execution_count": 4,
      "outputs": []
    },
    {
      "cell_type": "code",
      "source": [
        "class AgentState(TypedDict):\n",
        "    messages: Annotated[list[BaseMessage], operator.add]"
      ],
      "metadata": {
        "id": "_SFSGcXZkx43"
      },
      "execution_count": 5,
      "outputs": []
    },
    {
      "cell_type": "code",
      "source": [
        "# Instantiate the LLM to use Google\n",
        "llm = ChatGoogleGenerativeAI(\n",
        "    model=os.environ['MODEL'],\n",
        "    temperature=float(os.environ['TEMPERATURE']),\n",
        "    convert_system_message_to_human=True\n",
        ")\n",
        "\n",
        "# Bind the tools to the LLM\n",
        "llm_with_tools = llm.bind_tools(tools)\n",
        "\n",
        "# The agent node\n",
        "def agent_node(state):\n",
        "    \"\"\"Calls the LLM to decide the next action.\"\"\"\n",
        "    response = llm_with_tools.invoke(state['messages'])\n",
        "    return {\"messages\": [response]}\n",
        "\n",
        "# The tool node\n",
        "tool_node = ToolNode(tools)\n",
        "\n",
        "# The router function\n",
        "def router(state):\n",
        "    \"\"\"Routes the conversation to the correct node.\"\"\"\n",
        "    tool_calls = state['messages'][-1].tool_calls\n",
        "    if not tool_calls:\n",
        "        return \"end\"\n",
        "    return \"tools\""
      ],
      "metadata": {
        "id": "BFfv2TzIk3b8"
      },
      "execution_count": 6,
      "outputs": []
    },
    {
      "cell_type": "code",
      "source": [
        "# Create a new graph\n",
        "workflow = StateGraph(AgentState)\n",
        "\n",
        "# Add the nodes to the graph\n",
        "workflow.add_node(\"agent\", agent_node)\n",
        "workflow.add_node(\"tools\", tool_node)\n",
        "\n",
        "# Set the entry point of the graph\n",
        "workflow.set_entry_point(\"agent\")\n",
        "\n",
        "# Add edges to define the flow\n",
        "workflow.add_conditional_edges(\n",
        "    \"agent\",\n",
        "    router,\n",
        "    {\n",
        "        \"tools\": \"tools\",\n",
        "        \"end\": END,\n",
        "    },\n",
        ")\n",
        "workflow.add_edge(\"tools\", \"agent\")\n",
        "\n",
        "\n",
        "# Compile the graph into a runnable app\n",
        "app = workflow.compile()\n",
        "\n",
        "# Run the app\n",
        "email_address = input(\"Please enter the recipient's email address: \")\n",
        "domain = email_address.split('@')[1]\n",
        "\n",
        "initial_prompt = f\"\"\"You are Jaideep Singh, Business Development at GEM Engserv. Your phone number is 8976167591. Your goal is to send a compelling, personalized sales email.\n",
        "\n",
        "**Use the following information about GEM Engserv's capabilities in your email:**\n",
        "GEM Engserv offers engineering and project management services in the real estate, infrastructure, and industrial sectors. Our team specializes in managing the structural and architectural scope of work for building construction, with special confidence in Quality and Safety Management.\n",
        "\n",
        "Our services span the entire project timeframe:\n",
        "- **Pre-construction:** Design Management, Cost Planning, Master Schedule, Bid Management\n",
        "- **During Construction:** Construction Management, Quality and Safety Management, Cost and Schedule Monitoring\n",
        "- **Post-construction:** Snagging, Material Reconciliation, Project Closeout\n",
        "- **Digital Solutions:** Mobile apps for Safety Management, Quality Control, Labour Tracking\n",
        "\n",
        "**Your Task:**\n",
        "1.  First, research the domain '{domain}' to understand the recipient's company.\n",
        "2.  Then, draft a persuasive email to {email_address} in **HTML format**.\n",
        "\n",
        "**HTML Email Requirements:**\n",
        "- Your email must use the detailed service information above to create a highly relevant pitch.\n",
        "- It must include a call-to-action button that links to `https://www.gemengserv.com`. The button text should be 'Learn More About GEM Engserv' or similar.\n",
        "- The email should **not** have a separate footer section. All closing information must be in the signature.\n",
        "- The signature must be structured with your name (Jaideep Singh), title, company, and phone number, with the company logo at the bottom left. The logo is included with `<img src=\"cid:logo\">`.\n",
        "- Reference the company brochure, which is automatically attached, for more details.\n",
        "\n",
        "Finally, use the send_email_tool to send your drafted HTML email.\"\"\"\n",
        "\n",
        "for chunk in app.stream({\"messages\": [HumanMessage(content=initial_prompt)]}):\n",
        "    print(chunk)"
      ],
      "metadata": {
        "colab": {
          "base_uri": "https://localhost:8080/"
        },
        "id": "13uBXDsLk5ok",
        "outputId": "f1ef6b8d-c2f9-482a-caee-7f7d02a740d3"
      },
      "execution_count": 7,
      "outputs": [
        {
          "output_type": "stream",
          "name": "stdout",
          "text": [
            "Please enter the recipient's email address: jaideep@lodhagroup.com\n",
            "{'agent': {'messages': [AIMessage(content='', additional_kwargs={'function_call': {'name': 'research_domain_tool', 'arguments': '{\"domain\": \"lodhagroup.com\"}'}}, response_metadata={'prompt_feedback': {'block_reason': 0, 'safety_ratings': []}, 'finish_reason': 'STOP', 'model_name': 'gemini-2.5-flash', 'safety_ratings': [], 'grounding_metadata': {}, 'model_provider': 'google_genai'}, id='lc_run--f4b29197-900b-440b-8308-2607fd0ee533-0', tool_calls=[{'name': 'research_domain_tool', 'args': {'domain': 'lodhagroup.com'}, 'id': 'd94c1353-0244-4fd4-bf2f-f1eb94b33bec', 'type': 'tool_call'}], usage_metadata={'input_tokens': 515, 'output_tokens': 357, 'total_tokens': 872, 'input_token_details': {'cache_read': 0}, 'output_token_details': {'reasoning': 336}})]}}\n",
            "--- Researching domain: lodhagroup.com ---\n",
            "Lodha crafts both residential and commercial real estate developments, catering to a discerning spectrum of lifestyle preferences, across several geographies. Lodha or Lodha Developers Limited is an Indian multinational real estate company and construction company headquartered in Mumbai. It was founded in 1980 by ... Lodha is India's leading real estate developer, delivering thoughtfully designed, luxury residential and commercial properties in Mumbai, Pune, ... Established in 1980, privately held Lodha Group is India's No 1 real estate developer and amongst the world's select multinational real estate developers ... Established in 1980, Lodha Group is an Indian real estate developer that focuses on commercial and residential properties across India and the United ... Lodha Group has generally received favorable reviews for its world-class construction quality and timely delivery of projects. However, as with ... The company is involved in the construction and development of residential, office, and retail properties, as well as leasing of retail and office spaces. Website: http://www.lodhagroup.com. External link for Lodha ; Industry: Real Estate ; Company size: 1,001-5,000 employees ; Headquarters: Mumbai, Maharashtra ; Type ... Lodha Group is a real estate developer in India, focusing on creating residential and commercial properties. The company offers a variety of products, including ... Lodha Group is a public company based in Mumbai (India), founded in 1980 by Mangal Prabhat Lodha. It operates as a Developer of residential ...\n",
            "{'tools': {'messages': [ToolMessage(content=\"Lodha crafts both residential and commercial real estate developments, catering to a discerning spectrum of lifestyle preferences, across several geographies. Lodha or Lodha Developers Limited is an Indian multinational real estate company and construction company headquartered in Mumbai. It was founded in 1980 by ... Lodha is India's leading real estate developer, delivering thoughtfully designed, luxury residential and commercial properties in Mumbai, Pune, ... Established in 1980, privately held Lodha Group is India's No 1 real estate developer and amongst the world's select multinational real estate developers ... Established in 1980, Lodha Group is an Indian real estate developer that focuses on commercial and residential properties across India and the United ... Lodha Group has generally received favorable reviews for its world-class construction quality and timely delivery of projects. However, as with ... The company is involved in the construction and development of residential, office, and retail properties, as well as leasing of retail and office spaces. Website: http://www.lodhagroup.com. External link for Lodha ; Industry: Real Estate ; Company size: 1,001-5,000 employees ; Headquarters: Mumbai, Maharashtra ; Type ... Lodha Group is a real estate developer in India, focusing on creating residential and commercial properties. The company offers a variety of products, including ... Lodha Group is a public company based in Mumbai (India), founded in 1980 by Mangal Prabhat Lodha. It operates as a Developer of residential ...\", name='research_domain_tool', tool_call_id='d94c1353-0244-4fd4-bf2f-f1eb94b33bec')]}}\n",
            "{'agent': {'messages': [AIMessage(content='', additional_kwargs={'function_call': {'name': 'send_email_tool', 'arguments': '{\"to\": \"jaideep@lodhagroup.com\", \"subject\": \"Partnering for Excellence: Enhancing Lodha Group\\'s Landmark Developments with GEM Engserv\", \"body\": \"\\\\n<!DOCTYPE html>\\\\n<html>\\\\n<head>\\\\n<meta charset=\\\\\"utf-8\\\\\">\\\\n<title>GEM Engserv - Partnership Opportunity</title>\\\\n</head>\\\\n<body style=\\\\\"font-family: Arial, sans-serif; line-height: 1.6; color: #333;\\\\\">\\\\n    <div style=\\\\\"max-width: 600px; margin: 20px auto; padding: 20px; border: 1px solid #ddd; border-radius: 8px;\\\\\">\\\\n        <p>Dear Jaideep,</p>\\\\n        <p>I\\'m Jaideep Singh from GEM Engserv, and I\\'ve been following Lodha Group\\'s impressive work in shaping India\\'s real estate landscape, particularly your commitment to delivering world-class residential and commercial properties. Your reputation for quality and timely project delivery truly stands out.</p>\\\\n        <p>At GEM Engserv, we specialize in providing comprehensive engineering and project management services that align perfectly with the ambitions of leading developers like Lodha. We understand the complexities of managing large-scale structural and architectural scopes, and our expertise in Quality and Safety Management ensures that your projects not only meet but exceed expectations.</p>\\\\n        <p>We offer support across the entire project lifecycle, helping to streamline operations and enhance outcomes:</p>\\\\n        <ul>\\\\n            <li><strong>Pre-construction:</strong> From meticulous Design Management and precise Cost Planning to developing Master Schedules and efficient Bid Management, we lay a solid foundation for your projects.</li>\\\\n            <li><strong>During Construction:</strong> Our robust Construction Management, stringent Quality and Safety Management protocols, and continuous Cost and Schedule Monitoring are designed to ensure your projects are executed flawlessly and on time.</li>\\\\n            <li><strong>Post-construction:</strong> We ensure a smooth handover with thorough Snagging, accurate Material Reconciliation, and efficient Project Closeout.</li>\\\\n            <li><strong>Digital Solutions:</strong> Enhance your project efficiency and oversight with our innovative mobile apps for Safety Management, Quality Control, and Labour Tracking.</li>\\\\n        </ul>\\\\n        <p>We believe our capabilities can significantly contribute to Lodha Group\\'s continued success in delivering iconic developments. I\\'ve attached our company brochure for a more detailed overview of how we can partner with you.</p>\\\\n        <p style=\\\\\"text-align: center; margin-top: 30px;\\\\\">\\\\n            <a href=\\\\\"https://www.gemengserv.com\\\\\" style=\\\\\"background-color:#007bff;color:#ffffff;padding:12px 25px;text-decoration:none;border-radius:5px;display:inline-block;font-weight:bold;\\\\\">Learn More About GEM Engserv</a>\\\\n        </p>\\\\n        <p style=\\\\\"margin-top: 40px;\\\\\">Sincerely,</p>\\\\n        <p>\\\\n            <strong>Jaideep Singh</strong><br>\\\\n            Business Development<br>\\\\n            GEM Engserv<br>\\\\n            Phone: 8976167591<br>\\\\n            <img src=\\\\\"cid:logo\\\\\" alt=\\\\\"GEM Engserv Logo\\\\\" style=\\\\\"width:120px;height:auto;display:block;margin-top:10px;\\\\\">\\\\n        </p>\\\\n    </div>\\\\n</body>\\\\n</html>\\\\n\"}'}}, response_metadata={'prompt_feedback': {'block_reason': 0, 'safety_ratings': []}, 'finish_reason': 'STOP', 'model_name': 'gemini-2.5-flash', 'safety_ratings': [], 'grounding_metadata': {}, 'model_provider': 'google_genai'}, id='lc_run--d9494e4f-a8c9-4ae5-b998-c614bfd881da-0', tool_calls=[{'name': 'send_email_tool', 'args': {'to': 'jaideep@lodhagroup.com', 'subject': \"Partnering for Excellence: Enhancing Lodha Group's Landmark Developments with GEM Engserv\", 'body': '\\n<!DOCTYPE html>\\n<html>\\n<head>\\n<meta charset=\"utf-8\">\\n<title>GEM Engserv - Partnership Opportunity</title>\\n</head>\\n<body style=\"font-family: Arial, sans-serif; line-height: 1.6; color: #333;\">\\n    <div style=\"max-width: 600px; margin: 20px auto; padding: 20px; border: 1px solid #ddd; border-radius: 8px;\">\\n        <p>Dear Jaideep,</p>\\n        <p>I\\'m Jaideep Singh from GEM Engserv, and I\\'ve been following Lodha Group\\'s impressive work in shaping India\\'s real estate landscape, particularly your commitment to delivering world-class residential and commercial properties. Your reputation for quality and timely project delivery truly stands out.</p>\\n        <p>At GEM Engserv, we specialize in providing comprehensive engineering and project management services that align perfectly with the ambitions of leading developers like Lodha. We understand the complexities of managing large-scale structural and architectural scopes, and our expertise in Quality and Safety Management ensures that your projects not only meet but exceed expectations.</p>\\n        <p>We offer support across the entire project lifecycle, helping to streamline operations and enhance outcomes:</p>\\n        <ul>\\n            <li><strong>Pre-construction:</strong> From meticulous Design Management and precise Cost Planning to developing Master Schedules and efficient Bid Management, we lay a solid foundation for your projects.</li>\\n            <li><strong>During Construction:</strong> Our robust Construction Management, stringent Quality and Safety Management protocols, and continuous Cost and Schedule Monitoring are designed to ensure your projects are executed flawlessly and on time.</li>\\n            <li><strong>Post-construction:</strong> We ensure a smooth handover with thorough Snagging, accurate Material Reconciliation, and efficient Project Closeout.</li>\\n            <li><strong>Digital Solutions:</strong> Enhance your project efficiency and oversight with our innovative mobile apps for Safety Management, Quality Control, and Labour Tracking.</li>\\n        </ul>\\n        <p>We believe our capabilities can significantly contribute to Lodha Group\\'s continued success in delivering iconic developments. I\\'ve attached our company brochure for a more detailed overview of how we can partner with you.</p>\\n        <p style=\"text-align: center; margin-top: 30px;\">\\n            <a href=\"https://www.gemengserv.com\" style=\"background-color:#007bff;color:#ffffff;padding:12px 25px;text-decoration:none;border-radius:5px;display:inline-block;font-weight:bold;\">Learn More About GEM Engserv</a>\\n        </p>\\n        <p style=\"margin-top: 40px;\">Sincerely,</p>\\n        <p>\\n            <strong>Jaideep Singh</strong><br>\\n            Business Development<br>\\n            GEM Engserv<br>\\n            Phone: 8976167591<br>\\n            <img src=\"cid:logo\" alt=\"GEM Engserv Logo\" style=\"width:120px;height:auto;display:block;margin-top:10px;\">\\n        </p>\\n    </div>\\n</body>\\n</html>\\n'}, 'id': '56e08e23-91b1-499b-87ee-dd0bd4e79873', 'type': 'tool_call'}], usage_metadata={'input_tokens': 866, 'output_tokens': 1740, 'total_tokens': 2606, 'input_token_details': {'cache_read': 0}, 'output_token_details': {'reasoning': 973}})]}}\n",
            "\n",
            "--- Preparing to send email ---\n",
            "Enter password for shashikant.zarekar@gemengserv.com: ··········\n",
            "{'tools': {'messages': [ToolMessage(content='Email sent successfully!', name='send_email_tool', tool_call_id='56e08e23-91b1-499b-87ee-dd0bd4e79873')]}}\n",
            "{'agent': {'messages': [AIMessage(content=[{'type': 'text', 'text': 'The email has been successfully sent to jaideep@lodhagroup.com.', 'extras': {'signature': 'CuMFAdHtim/hQnIbZ9Nb6P1OVLAHVeNsQRXJfiOHY3jGsSZYclBVyGq+IpVRCvtvR2Lg+rktGzXizM1KIJYFFOr4bfYKdhyORX3G4dtLu35ROp4J+UZAMQ+W+r+SIsC8bSme5FNpfBSocUfF4pBo2pFl0GDv7lM0cycfW3djDWX/TBIYiBoBEJ5fjtICTo5RgN++H1seQezfM3zw7B2iPhDdv8lOw0dNPFTSOxwDrKpSvqElWFJ1ndjx9YV/t7NQkqiSNmi3FOWY/rLrddiHAewIlSMNC5jA725QB7xUTzol3Yf0Bdwa12Jq12YUjoiH9Y79aZMS0A9bNLP5XfotPdq1qSHukVI+M2/rtqkh24jn+yV7w82/UgWTrIGqD7JjnqKaUfY4uc5OoOUwPB5b95BFYiBXdGfU1+opXWxqmoqWwxKeI8Q/w/EXWmkJNpN0MiXZhpt+iB7MIOonRUOLySf3dCVbYNyiiD/VhFMJnQA97Ayd39za1UcI+h3jmLcZSrLsahVgW6bD7j4O764hgzHKksJGokjweW+phvoidQylRjf5csY+F8WKcjxarGQhje2VitpodUL4bCJ9xhUcRdMY0kzkYrrbeUHWSiwicB6T/z02rGYC0p3bntHYm18T4YyHvcjYwr7j9vxfrehRNkQfnO3CynUB/5bv+Q3WzgFDY2oIfkhLbZvA4h80clWA/5C6BqN1GHNIou+GjQwlW9qGez0mtf01K6oPSmLKx38lxPxzjszLFxoXjiR972BLSQ9yOp2l8bPKjhaCWRDJ/lgl9/fy2Mpdj7pX6/aOarR8cHrVqy+eb71AS8Nue7rAiXwoWaRjyc/3ZTpDDpw6X/14UsHbNF6+j7JnqNgE16N2kyCqW5WAHh5jS7fJR4ixi/S5wjN9BvZ0pkoW2D8pZ7hJD9MUm0oCw8OJovwlGP6qoLhrKcw/EklWCiRtehYXDVwb/eQ10GZh+uCOSHUW5CnLUggqLg=='}}], additional_kwargs={}, response_metadata={'prompt_feedback': {'block_reason': 0, 'safety_ratings': []}, 'finish_reason': 'STOP', 'model_name': 'gemini-2.5-flash', 'safety_ratings': [], 'grounding_metadata': {}, 'model_provider': 'google_genai'}, id='lc_run--692ba443-8923-4bfc-8397-fd977a9a4638-0', usage_metadata={'input_tokens': 1653, 'output_tokens': 180, 'total_tokens': 1833, 'input_token_details': {'cache_read': 808}, 'output_token_details': {'reasoning': 163}})]}}\n"
          ]
        }
      ]
    }
  ]
}